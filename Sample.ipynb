{
 "cells": [
  {
   "cell_type": "code",
   "execution_count": 3,
   "metadata": {},
   "outputs": [],
   "source": [
    "\n",
    "def parse_fasta(fn):\n",
    "    with open(fn,'r') as f:\n",
    "        line = f.readline()\n",
    "        name = line[1:line.find(' ')].strip()\n",
    "        seq = []\n",
    "        while line:\n",
    "            line = f.readline()\n",
    "            seq.append(line.strip())\n",
    "    return name,''.join(seq)\n",
    "                "
   ]
  },
  {
   "cell_type": "code",
   "execution_count": 12,
   "metadata": {},
   "outputs": [],
   "source": [
    "name,ref = parse_fasta('reference.fasta')"
   ]
  },
  {
   "cell_type": "code",
   "execution_count": 13,
   "metadata": {},
   "outputs": [
    {
     "name": "stdout",
     "output_type": "stream",
     "text": [
      "MN908947.3 29903\n"
     ]
    }
   ],
   "source": [
    "print(name,len(ref))"
   ]
  },
  {
   "cell_type": "code",
   "execution_count": 14,
   "metadata": {},
   "outputs": [],
   "source": [
    "def parse_fastq(fn,limit=None):\n",
    "    seqs = []\n",
    "    with open(fn,'r') as f:\n",
    "        i = 0\n",
    "        while i < limit or limit is None:\n",
    "            _ = f.readline()\n",
    "            seq = f.readline().strip()\n",
    "            _ = f.readline()\n",
    "            _ = f.readline()\n",
    "            seqs.append(seq)\n",
    "            i += 1\n",
    "    return seqs"
   ]
  },
  {
   "cell_type": "code",
   "execution_count": 15,
   "metadata": {},
   "outputs": [],
   "source": [
    "seqs = parse_fastq('SRR11397721_1.fastq',100)"
   ]
  },
  {
   "cell_type": "code",
   "execution_count": null,
   "metadata": {},
   "outputs": [],
   "source": [
    "# perfect match\n",
    "i = ref.find(seqs[0])\n",
    "print(i)"
   ]
  },
  {
   "cell_type": "code",
   "execution_count": 24,
   "metadata": {},
   "outputs": [
    {
     "name": "stdout",
     "output_type": "stream",
     "text": [
      "-1 12549\n"
     ]
    }
   ],
   "source": [
    "# not a perfect match\n",
    "i = ref.find(seqs[1])\n",
    "i1 = ref.find(seqs[1][:30])\n",
    "print(i,i1)"
   ]
  },
  {
   "cell_type": "code",
   "execution_count": 23,
   "metadata": {},
   "outputs": [
    {
     "name": "stdout",
     "output_type": "stream",
     "text": [
      "GTGGGAAATCCAACAGGTTGTAGATGCAGATAGTAAAATTGTTCAACTTAGTGAAATTAGTATGGACAATTCACCTAATTTAGCATGGCCTCTTATTGTAACAGCTTTAAGGGCCAATTCTGCTGTCAAATTACAGAATAATGAGCTTAGT\n",
      "GTGGGAAATCCAACAGGTTGTAGATGCAGATAGTAAAATTGTTCAACTTAGTGAAATTAGTATGGACAATTCACCTAATTTAGCATGGCCTCTTATTGTAACAGCTTTAAGGGCCAAATTCTGCTGTCAAATTACAGAATAATGAGCTTAG\n"
     ]
    }
   ],
   "source": [
    "print(ref[i1:i1+len(seqs[1])])\n",
    "print(seqs[1])"
   ]
  }
 ],
 "metadata": {
  "kernelspec": {
   "display_name": "Python 3",
   "language": "python",
   "name": "python3"
  },
  "language_info": {
   "codemirror_mode": {
    "name": "ipython",
    "version": 3
   },
   "file_extension": ".py",
   "mimetype": "text/x-python",
   "name": "python",
   "nbconvert_exporter": "python",
   "pygments_lexer": "ipython3",
   "version": "3.6.7"
  }
 },
 "nbformat": 4,
 "nbformat_minor": 4
}
